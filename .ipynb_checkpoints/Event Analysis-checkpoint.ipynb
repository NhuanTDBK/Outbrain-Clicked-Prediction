{
 "cells": [
  {
   "cell_type": "code",
   "execution_count": 1,
   "metadata": {
    "collapsed": true
   },
   "outputs": [],
   "source": [
    "import pandas as pd\n",
    "import numpy as np"
   ]
  },
  {
   "cell_type": "code",
   "execution_count": 53,
   "metadata": {
    "collapsed": true
   },
   "outputs": [],
   "source": [
    "events = pd.read_csv(\"data/events.csv.zip\",iterator=True,chunksize=1000000)\n",
    "clicked_train = pd.read_csv(\"data/clicks_train.csv.zip\",iterator=True,chunksize=1000000)\n",
    "categories = pd.read_csv('data/documents_categories.csv.zip',iterator=True,chunksize=1000000)\n",
    "entities = pd.read_csv('data/documents_entities.csv.zip',iterator=True,chunksize=1000000)\n",
    "topics = pd.read_csv('data/documents_topics.csv.zip',iterator=True,chunksize=1000000)"
   ]
  },
  {
   "cell_type": "code",
   "execution_count": 23,
   "metadata": {
    "collapsed": false
   },
   "outputs": [],
   "source": [
    "event_sample = events.next()\n",
    "clicked_sample = clicked_train.next()"
   ]
  },
  {
   "cell_type": "code",
   "execution_count": 54,
   "metadata": {
    "collapsed": true
   },
   "outputs": [],
   "source": [
    "entities_sample = entities.next()\n",
    "categories_sample = categories.next()\n",
    "topics_sample = topics.next()"
   ]
  },
  {
   "cell_type": "code",
   "execution_count": 26,
   "metadata": {
    "collapsed": true
   },
   "outputs": [],
   "source": [
    "id_lst = clicked_sample.display_id.unique()"
   ]
  },
  {
   "cell_type": "code",
   "execution_count": 27,
   "metadata": {
    "collapsed": true
   },
   "outputs": [],
   "source": [
    "filter_event = event_sample[event_sample.display_id.isin(id_lst)]"
   ]
  },
  {
   "cell_type": "code",
   "execution_count": 51,
   "metadata": {
    "collapsed": false
   },
   "outputs": [],
   "source": [
    "event_clicked = pd.merge(event_sample,clicked_sample,on='display_id',how='inner').drop(['geo_location','uuid','platform'],axis=1)"
   ]
  },
  {
   "cell_type": "code",
   "execution_count": 56,
   "metadata": {
    "collapsed": false
   },
   "outputs": [],
   "source": [
    "category_event = pd.merge(event_clicked,categories_sample,on='document_id',how='inner')"
   ]
  },
  {
   "cell_type": "code",
   "execution_count": null,
   "metadata": {
    "collapsed": true
   },
   "outputs": [],
   "source": [
    "topic_event = pd.merge(event_clicked,topics_sample,on='document_id',how='inner')"
   ]
  },
  {
   "cell_type": "code",
   "execution_count": 64,
   "metadata": {
    "collapsed": true
   },
   "outputs": [],
   "source": [
    "topic_event_clicked = topic_event[topic_event.clicked==1]"
   ]
  },
  {
   "cell_type": "code",
   "execution_count": 84,
   "metadata": {
    "collapsed": false
   },
   "outputs": [
    {
     "data": {
      "text/html": [
       "<div>\n",
       "<table border=\"1\" class=\"dataframe\">\n",
       "  <thead>\n",
       "    <tr style=\"text-align: right;\">\n",
       "      <th></th>\n",
       "      <th>display_id</th>\n",
       "      <th>document_id</th>\n",
       "      <th>timestamp</th>\n",
       "      <th>ad_id</th>\n",
       "      <th>clicked</th>\n",
       "      <th>topic_id</th>\n",
       "      <th>confidence_level</th>\n",
       "    </tr>\n",
       "  </thead>\n",
       "  <tbody>\n",
       "    <tr>\n",
       "      <th>9</th>\n",
       "      <td>2</td>\n",
       "      <td>1794259</td>\n",
       "      <td>81</td>\n",
       "      <td>308455</td>\n",
       "      <td>1</td>\n",
       "      <td>66</td>\n",
       "      <td>0.031585</td>\n",
       "    </tr>\n",
       "    <tr>\n",
       "      <th>10</th>\n",
       "      <td>2</td>\n",
       "      <td>1794259</td>\n",
       "      <td>81</td>\n",
       "      <td>308455</td>\n",
       "      <td>1</td>\n",
       "      <td>164</td>\n",
       "      <td>0.009524</td>\n",
       "    </tr>\n",
       "    <tr>\n",
       "      <th>11</th>\n",
       "      <td>2</td>\n",
       "      <td>1794259</td>\n",
       "      <td>81</td>\n",
       "      <td>308455</td>\n",
       "      <td>1</td>\n",
       "      <td>263</td>\n",
       "      <td>0.009524</td>\n",
       "    </tr>\n",
       "    <tr>\n",
       "      <th>18</th>\n",
       "      <td>98</td>\n",
       "      <td>1794259</td>\n",
       "      <td>7191</td>\n",
       "      <td>127051</td>\n",
       "      <td>1</td>\n",
       "      <td>66</td>\n",
       "      <td>0.031585</td>\n",
       "    </tr>\n",
       "    <tr>\n",
       "      <th>19</th>\n",
       "      <td>98</td>\n",
       "      <td>1794259</td>\n",
       "      <td>7191</td>\n",
       "      <td>127051</td>\n",
       "      <td>1</td>\n",
       "      <td>164</td>\n",
       "      <td>0.009524</td>\n",
       "    </tr>\n",
       "  </tbody>\n",
       "</table>\n",
       "</div>"
      ],
      "text/plain": [
       "    display_id  document_id  timestamp   ad_id  clicked  topic_id  \\\n",
       "9            2      1794259         81  308455        1        66   \n",
       "10           2      1794259         81  308455        1       164   \n",
       "11           2      1794259         81  308455        1       263   \n",
       "18          98      1794259       7191  127051        1        66   \n",
       "19          98      1794259       7191  127051        1       164   \n",
       "\n",
       "    confidence_level  \n",
       "9           0.031585  \n",
       "10          0.009524  \n",
       "11          0.009524  \n",
       "18          0.031585  \n",
       "19          0.009524  "
      ]
     },
     "execution_count": 84,
     "metadata": {},
     "output_type": "execute_result"
    }
   ],
   "source": [
    "topic_event_clicked.head()"
   ]
  },
  {
   "cell_type": "code",
   "execution_count": 85,
   "metadata": {
    "collapsed": true
   },
   "outputs": [],
   "source": [
    "timestamp_utc = pd.to_datetime(topic_event_clicked.timestamp + 1466724934123200002)"
   ]
  },
  {
   "cell_type": "code",
   "execution_count": 87,
   "metadata": {
    "collapsed": true
   },
   "outputs": [],
   "source": [
    "topic_event_clicked.timestamp = timestamp_utc"
   ]
  },
  {
   "cell_type": "code",
   "execution_count": 107,
   "metadata": {
    "collapsed": false
   },
   "outputs": [],
   "source": [
    "topic_count = topic_event_clicked.topic_id.value_counts()[:5]"
   ]
  },
  {
   "cell_type": "code",
   "execution_count": 121,
   "metadata": {
    "collapsed": false
   },
   "outputs": [],
   "source": [
    "topic_group = topic_event_clicked[topic_event_clicked.topic_id.isin(topic_count.index)].groupby(['timestamp','topic_id'])['clicked'].count()"
   ]
  },
  {
   "cell_type": "code",
   "execution_count": 123,
   "metadata": {
    "collapsed": false
   },
   "outputs": [
    {
     "name": "stdout",
     "output_type": "stream",
     "text": [
      "Using matplotlib backend: Qt4Agg\n"
     ]
    },
    {
     "data": {
      "text/plain": [
       "<matplotlib.axes._subplots.AxesSubplot at 0x7f473805ef90>"
      ]
     },
     "execution_count": 123,
     "metadata": {},
     "output_type": "execute_result"
    }
   ],
   "source": [
    "%matplotlib\n",
    "topic_group[0:1000].plot()"
   ]
  },
  {
   "cell_type": "code",
   "execution_count": null,
   "metadata": {
    "collapsed": true
   },
   "outputs": [],
   "source": []
  },
  {
   "cell_type": "code",
   "execution_count": 92,
   "metadata": {
    "collapsed": false
   },
   "outputs": [
    {
     "name": "stdout",
     "output_type": "stream",
     "text": [
      "Using matplotlib backend: Qt4Agg\n"
     ]
    },
    {
     "data": {
      "text/plain": [
       "<matplotlib.axes._subplots.AxesSubplot at 0x7f4758dc1210>"
      ]
     },
     "execution_count": 92,
     "metadata": {},
     "output_type": "execute_result"
    }
   ],
   "source": [
    "%matplotlib\n",
    "topic_count.plot()"
   ]
  },
  {
   "cell_type": "code",
   "execution_count": null,
   "metadata": {
    "collapsed": true
   },
   "outputs": [],
   "source": []
  },
  {
   "cell_type": "code",
   "execution_count": null,
   "metadata": {
    "collapsed": true
   },
   "outputs": [],
   "source": []
  },
  {
   "cell_type": "code",
   "execution_count": null,
   "metadata": {
    "collapsed": true
   },
   "outputs": [],
   "source": []
  },
  {
   "cell_type": "code",
   "execution_count": 60,
   "metadata": {
    "collapsed": false
   },
   "outputs": [],
   "source": [
    "entity_event = pd.merge(event_clicked,entities_sample,on='document_id',how='inner')"
   ]
  },
  {
   "cell_type": "code",
   "execution_count": 61,
   "metadata": {
    "collapsed": false
   },
   "outputs": [
    {
     "data": {
      "text/html": [
       "<div>\n",
       "<table border=\"1\" class=\"dataframe\">\n",
       "  <thead>\n",
       "    <tr style=\"text-align: right;\">\n",
       "      <th></th>\n",
       "      <th>display_id</th>\n",
       "      <th>document_id</th>\n",
       "      <th>timestamp</th>\n",
       "      <th>ad_id</th>\n",
       "      <th>clicked</th>\n",
       "      <th>entity_id</th>\n",
       "      <th>confidence_level</th>\n",
       "    </tr>\n",
       "  </thead>\n",
       "  <tbody>\n",
       "    <tr>\n",
       "      <th>0</th>\n",
       "      <td>2</td>\n",
       "      <td>1794259</td>\n",
       "      <td>81</td>\n",
       "      <td>125211</td>\n",
       "      <td>0</td>\n",
       "      <td>0db30daa7d11fbe9245e1bae8c4ef851</td>\n",
       "      <td>0.696760</td>\n",
       "    </tr>\n",
       "    <tr>\n",
       "      <th>1</th>\n",
       "      <td>2</td>\n",
       "      <td>1794259</td>\n",
       "      <td>81</td>\n",
       "      <td>125211</td>\n",
       "      <td>0</td>\n",
       "      <td>009c44e9be87c060d46be40ba40c4fe5</td>\n",
       "      <td>0.671037</td>\n",
       "    </tr>\n",
       "    <tr>\n",
       "      <th>2</th>\n",
       "      <td>2</td>\n",
       "      <td>1794259</td>\n",
       "      <td>81</td>\n",
       "      <td>156535</td>\n",
       "      <td>0</td>\n",
       "      <td>0db30daa7d11fbe9245e1bae8c4ef851</td>\n",
       "      <td>0.696760</td>\n",
       "    </tr>\n",
       "    <tr>\n",
       "      <th>3</th>\n",
       "      <td>2</td>\n",
       "      <td>1794259</td>\n",
       "      <td>81</td>\n",
       "      <td>156535</td>\n",
       "      <td>0</td>\n",
       "      <td>009c44e9be87c060d46be40ba40c4fe5</td>\n",
       "      <td>0.671037</td>\n",
       "    </tr>\n",
       "    <tr>\n",
       "      <th>4</th>\n",
       "      <td>2</td>\n",
       "      <td>1794259</td>\n",
       "      <td>81</td>\n",
       "      <td>169564</td>\n",
       "      <td>0</td>\n",
       "      <td>0db30daa7d11fbe9245e1bae8c4ef851</td>\n",
       "      <td>0.696760</td>\n",
       "    </tr>\n",
       "  </tbody>\n",
       "</table>\n",
       "</div>"
      ],
      "text/plain": [
       "   display_id  document_id  timestamp   ad_id  clicked  \\\n",
       "0           2      1794259         81  125211        0   \n",
       "1           2      1794259         81  125211        0   \n",
       "2           2      1794259         81  156535        0   \n",
       "3           2      1794259         81  156535        0   \n",
       "4           2      1794259         81  169564        0   \n",
       "\n",
       "                          entity_id  confidence_level  \n",
       "0  0db30daa7d11fbe9245e1bae8c4ef851          0.696760  \n",
       "1  009c44e9be87c060d46be40ba40c4fe5          0.671037  \n",
       "2  0db30daa7d11fbe9245e1bae8c4ef851          0.696760  \n",
       "3  009c44e9be87c060d46be40ba40c4fe5          0.671037  \n",
       "4  0db30daa7d11fbe9245e1bae8c4ef851          0.696760  "
      ]
     },
     "execution_count": 61,
     "metadata": {},
     "output_type": "execute_result"
    }
   ],
   "source": [
    "entity_event.head()"
   ]
  },
  {
   "cell_type": "code",
   "execution_count": null,
   "metadata": {
    "collapsed": true
   },
   "outputs": [],
   "source": []
  }
 ],
 "metadata": {
  "kernelspec": {
   "display_name": "Python 2",
   "language": "python",
   "name": "python2"
  },
  "language_info": {
   "codemirror_mode": {
    "name": "ipython",
    "version": 2
   },
   "file_extension": ".py",
   "mimetype": "text/x-python",
   "name": "python",
   "nbconvert_exporter": "python",
   "pygments_lexer": "ipython2",
   "version": "2.7.12"
  }
 },
 "nbformat": 4,
 "nbformat_minor": 1
}
